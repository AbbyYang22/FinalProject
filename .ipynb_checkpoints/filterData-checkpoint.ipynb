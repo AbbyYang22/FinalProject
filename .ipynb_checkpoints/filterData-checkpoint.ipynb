{
 "cells": [
  {
   "cell_type": "code",
   "execution_count": 1,
   "id": "5aec4e2f-6130-4cd7-b8f9-43039e4d0361",
   "metadata": {},
   "outputs": [],
   "source": [
    "import pandas as pd"
   ]
  },
  {
   "cell_type": "code",
   "execution_count": 2,
   "id": "c0c83a00-9f0a-43b0-b01d-0d1cd0f4c069",
   "metadata": {},
   "outputs": [
    {
     "data": {
      "text/html": [
       "<div>\n",
       "<style scoped>\n",
       "    .dataframe tbody tr th:only-of-type {\n",
       "        vertical-align: middle;\n",
       "    }\n",
       "\n",
       "    .dataframe tbody tr th {\n",
       "        vertical-align: top;\n",
       "    }\n",
       "\n",
       "    .dataframe thead th {\n",
       "        text-align: right;\n",
       "    }\n",
       "</style>\n",
       "<table border=\"1\" class=\"dataframe\">\n",
       "  <thead>\n",
       "    <tr style=\"text-align: right;\">\n",
       "      <th></th>\n",
       "      <th>id</th>\n",
       "      <th>section</th>\n",
       "      <th>addr</th>\n",
       "      <th>lon</th>\n",
       "      <th>lat</th>\n",
       "      <th>parking_space</th>\n",
       "      <th>construction_time</th>\n",
       "      <th>trade_time</th>\n",
       "      <th>age</th>\n",
       "      <th>unit_price_ping</th>\n",
       "      <th>...</th>\n",
       "      <th>partition</th>\n",
       "      <th>mgmt</th>\n",
       "      <th>purpose</th>\n",
       "      <th>min_inci</th>\n",
       "      <th>min_hos</th>\n",
       "      <th>min_mrt</th>\n",
       "      <th>min_mart</th>\n",
       "      <th>min_gas</th>\n",
       "      <th>min_school</th>\n",
       "      <th>min_park</th>\n",
       "    </tr>\n",
       "  </thead>\n",
       "  <tbody>\n",
       "    <tr>\n",
       "      <th>0</th>\n",
       "      <td>2</td>\n",
       "      <td>1</td>\n",
       "      <td>新北市八里區商港路16號2樓</td>\n",
       "      <td>121.396911</td>\n",
       "      <td>25.144805</td>\n",
       "      <td>0</td>\n",
       "      <td>820504</td>\n",
       "      <td>1011122</td>\n",
       "      <td>19</td>\n",
       "      <td>115937.7118</td>\n",
       "      <td>...</td>\n",
       "      <td>有</td>\n",
       "      <td>1</td>\n",
       "      <td>住家用</td>\n",
       "      <td>3.216651</td>\n",
       "      <td>2.360415</td>\n",
       "      <td>6.347960</td>\n",
       "      <td>0.421408</td>\n",
       "      <td>0.259130</td>\n",
       "      <td>0.311712</td>\n",
       "      <td>0.082275</td>\n",
       "    </tr>\n",
       "    <tr>\n",
       "      <th>1</th>\n",
       "      <td>3</td>\n",
       "      <td>1</td>\n",
       "      <td>新北市八里區龍米路１段448號24樓</td>\n",
       "      <td>121.451042</td>\n",
       "      <td>25.134357</td>\n",
       "      <td>1</td>\n",
       "      <td>850923</td>\n",
       "      <td>1020204</td>\n",
       "      <td>17</td>\n",
       "      <td>234202.7068</td>\n",
       "      <td>...</td>\n",
       "      <td>有</td>\n",
       "      <td>1</td>\n",
       "      <td>住家用</td>\n",
       "      <td>8.482000</td>\n",
       "      <td>1.320465</td>\n",
       "      <td>0.893130</td>\n",
       "      <td>0.957701</td>\n",
       "      <td>0.794212</td>\n",
       "      <td>0.069713</td>\n",
       "      <td>0.854684</td>\n",
       "    </tr>\n",
       "    <tr>\n",
       "      <th>2</th>\n",
       "      <td>6</td>\n",
       "      <td>1</td>\n",
       "      <td>新北市八里區下罟子54之18號2樓</td>\n",
       "      <td>121.388403</td>\n",
       "      <td>25.140149</td>\n",
       "      <td>0</td>\n",
       "      <td>700820</td>\n",
       "      <td>1031209</td>\n",
       "      <td>33</td>\n",
       "      <td>103878.1534</td>\n",
       "      <td>...</td>\n",
       "      <td>有</td>\n",
       "      <td>0</td>\n",
       "      <td>住家用</td>\n",
       "      <td>2.242399</td>\n",
       "      <td>3.157690</td>\n",
       "      <td>7.202395</td>\n",
       "      <td>1.384427</td>\n",
       "      <td>1.237124</td>\n",
       "      <td>1.259014</td>\n",
       "      <td>0.942919</td>\n",
       "    </tr>\n",
       "    <tr>\n",
       "      <th>3</th>\n",
       "      <td>7</td>\n",
       "      <td>1</td>\n",
       "      <td>新北市八里區下罟子５７之２１號</td>\n",
       "      <td>121.387536</td>\n",
       "      <td>25.137374</td>\n",
       "      <td>0</td>\n",
       "      <td>690325</td>\n",
       "      <td>1040913</td>\n",
       "      <td>35</td>\n",
       "      <td>110000.4950</td>\n",
       "      <td>...</td>\n",
       "      <td>有</td>\n",
       "      <td>0</td>\n",
       "      <td>住家用</td>\n",
       "      <td>2.096059</td>\n",
       "      <td>3.258152</td>\n",
       "      <td>7.277277</td>\n",
       "      <td>1.657483</td>\n",
       "      <td>1.468159</td>\n",
       "      <td>1.413863</td>\n",
       "      <td>1.211620</td>\n",
       "    </tr>\n",
       "    <tr>\n",
       "      <th>4</th>\n",
       "      <td>8</td>\n",
       "      <td>1</td>\n",
       "      <td>新北市八里區下罟子５７之２３號</td>\n",
       "      <td>121.387534</td>\n",
       "      <td>25.137271</td>\n",
       "      <td>0</td>\n",
       "      <td>690325</td>\n",
       "      <td>1090923</td>\n",
       "      <td>40</td>\n",
       "      <td>99940.9456</td>\n",
       "      <td>...</td>\n",
       "      <td>有</td>\n",
       "      <td>0</td>\n",
       "      <td>住家用</td>\n",
       "      <td>2.094389</td>\n",
       "      <td>3.259394</td>\n",
       "      <td>7.277268</td>\n",
       "      <td>1.665824</td>\n",
       "      <td>1.474884</td>\n",
       "      <td>1.416363</td>\n",
       "      <td>1.219951</td>\n",
       "    </tr>\n",
       "  </tbody>\n",
       "</table>\n",
       "<p>5 rows × 28 columns</p>\n",
       "</div>"
      ],
      "text/plain": [
       "   id  section                addr         lon        lat  parking_space  \\\n",
       "0   2        1      新北市八里區商港路16號2樓  121.396911  25.144805              0   \n",
       "1   3        1  新北市八里區龍米路１段448號24樓  121.451042  25.134357              1   \n",
       "2   6        1   新北市八里區下罟子54之18號2樓  121.388403  25.140149              0   \n",
       "3   7        1     新北市八里區下罟子５７之２１號  121.387536  25.137374              0   \n",
       "4   8        1     新北市八里區下罟子５７之２３號  121.387534  25.137271              0   \n",
       "\n",
       "   construction_time  trade_time  age  unit_price_ping  ...  partition mgmt  \\\n",
       "0             820504     1011122   19      115937.7118  ...          有    1   \n",
       "1             850923     1020204   17      234202.7068  ...          有    1   \n",
       "2             700820     1031209   33      103878.1534  ...          有    0   \n",
       "3             690325     1040913   35      110000.4950  ...          有    0   \n",
       "4             690325     1090923   40       99940.9456  ...          有    0   \n",
       "\n",
       "  purpose  min_inci   min_hos   min_mrt  min_mart   min_gas min_school  \\\n",
       "0     住家用  3.216651  2.360415  6.347960  0.421408  0.259130   0.311712   \n",
       "1     住家用  8.482000  1.320465  0.893130  0.957701  0.794212   0.069713   \n",
       "2     住家用  2.242399  3.157690  7.202395  1.384427  1.237124   1.259014   \n",
       "3     住家用  2.096059  3.258152  7.277277  1.657483  1.468159   1.413863   \n",
       "4     住家用  2.094389  3.259394  7.277268  1.665824  1.474884   1.416363   \n",
       "\n",
       "   min_park  \n",
       "0  0.082275  \n",
       "1  0.854684  \n",
       "2  0.942919  \n",
       "3  1.211620  \n",
       "4  1.219951  \n",
       "\n",
       "[5 rows x 28 columns]"
      ]
     },
     "execution_count": 2,
     "metadata": {},
     "output_type": "execute_result"
    }
   ],
   "source": [
    "data = pd.read_csv('cleaned_model_table.csv', encoding = 'ANSI')\n",
    "data.head()"
   ]
  },
  {
   "cell_type": "code",
   "execution_count": 3,
   "id": "45767a3e-6c6a-4fd1-99cd-ed2ba34c85ab",
   "metadata": {},
   "outputs": [
    {
     "data": {
      "text/plain": [
       "(233922, 28)"
      ]
     },
     "execution_count": 3,
     "metadata": {},
     "output_type": "execute_result"
    }
   ],
   "source": [
    "data.shape"
   ]
  },
  {
   "cell_type": "code",
   "execution_count": 4,
   "id": "d63c7922-3f80-4559-ba1c-ab4ae38ec516",
   "metadata": {},
   "outputs": [
    {
     "data": {
      "text/plain": [
       "住家用        233417\n",
       "國民住宅          431\n",
       "住宅             39\n",
       "社區住宅           34\n",
       "住宅，集合住宅         1\n",
       "Name: purpose, dtype: int64"
      ]
     },
     "execution_count": 4,
     "metadata": {},
     "output_type": "execute_result"
    }
   ],
   "source": [
    "data.purpose.value_counts()"
   ]
  },
  {
   "cell_type": "code",
   "execution_count": 5,
   "id": "f70f3189-17ad-4b1e-934f-1ac40c11c19c",
   "metadata": {
    "tags": []
   },
   "outputs": [],
   "source": [
    "general_model_full = data.drop(columns = {'lon', 'lat', 'addr'})"
   ]
  },
  {
   "cell_type": "code",
   "execution_count": 7,
   "id": "98420ea4-87ae-49f4-ae74-08a59237f3d4",
   "metadata": {},
   "outputs": [
    {
     "data": {
      "text/plain": [
       "Index(['id', 'section', 'parking_space', 'construction_time', 'trade_time',\n",
       "       'age', 'unit_price_ping', 'area', 'trasaction_floor', 'total_floor',\n",
       "       'floor', 'type', 'room', 'lr', 'bath', 'partition', 'mgmt', 'purpose',\n",
       "       'min_inci', 'min_hos', 'min_mrt', 'min_mart', 'min_gas', 'min_school',\n",
       "       'min_park'],\n",
       "      dtype='object')"
      ]
     },
     "execution_count": 7,
     "metadata": {},
     "output_type": "execute_result"
    }
   ],
   "source": [
    "general_model_full.columns"
   ]
  },
  {
   "cell_type": "code",
   "execution_count": 16,
   "id": "9d659128-89c9-4944-b601-12c088a3e510",
   "metadata": {},
   "outputs": [],
   "source": [
    "general_model_full['yearMonth'] = \"\""
   ]
  },
  {
   "cell_type": "code",
   "execution_count": 14,
   "id": "a856a51e-b18d-44e9-9049-b45bbe5d456f",
   "metadata": {},
   "outputs": [],
   "source": [
    "general_model_full.trade_time = general_model_full.trade_time.astype(str)"
   ]
  },
  {
   "cell_type": "code",
   "execution_count": 30,
   "id": "60e0fb70-481e-4feb-8c33-0f6a80582ea4",
   "metadata": {},
   "outputs": [
    {
     "name": "stderr",
     "output_type": "stream",
     "text": [
      "<ipython-input-30-e76b18a7906d>:3: SettingWithCopyWarning: \n",
      "A value is trying to be set on a copy of a slice from a DataFrame\n",
      "\n",
      "See the caveats in the documentation: https://pandas.pydata.org/pandas-docs/stable/user_guide/indexing.html#returning-a-view-versus-a-copy\n",
      "  general_model_full.yearMonth[i] = general_model_full.trade_time[i][0:3]+'-'+general_model_full.trade_time[i][3:5]\n",
      "<ipython-input-30-e76b18a7906d>:5: SettingWithCopyWarning: \n",
      "A value is trying to be set on a copy of a slice from a DataFrame\n",
      "\n",
      "See the caveats in the documentation: https://pandas.pydata.org/pandas-docs/stable/user_guide/indexing.html#returning-a-view-versus-a-copy\n",
      "  general_model_full.yearMonth[i] = general_model_full.trade_time[i][0:2]+'-'+general_model_full.trade_time[i][2:4]\n"
     ]
    }
   ],
   "source": [
    "for i in range(len(general_model_full)) :\n",
    "    if len(general_model_full.trade_time[i]) == 7:\n",
    "        general_model_full.yearMonth[i] = general_model_full.trade_time[i][0:3]+'-'+general_model_full.trade_time[i][3:5]\n",
    "    else :\n",
    "        general_model_full.yearMonth[i] = general_model_full.trade_time[i][0:2]+'-'+general_model_full.trade_time[i][2:4]\n",
    "        "
   ]
  },
  {
   "cell_type": "code",
   "execution_count": 31,
   "id": "e96908b6-bbc1-40f4-ab31-88c0ce64252e",
   "metadata": {},
   "outputs": [
    {
     "data": {
      "text/plain": [
       "0         101-11\n",
       "1         102-02\n",
       "2         103-12\n",
       "3         104-09\n",
       "4         109-09\n",
       "           ...  \n",
       "233917    104-07\n",
       "233918    110-03\n",
       "233919    109-06\n",
       "233920    102-08\n",
       "233921    102-06\n",
       "Name: yearMonth, Length: 233922, dtype: object"
      ]
     },
     "execution_count": 31,
     "metadata": {},
     "output_type": "execute_result"
    }
   ],
   "source": [
    "general_model_full.yearMonth"
   ]
  },
  {
   "cell_type": "code",
   "execution_count": 38,
   "id": "26757594-9055-44be-83c0-b8df50f0b656",
   "metadata": {},
   "outputs": [],
   "source": [
    "general_model_full.to_csv('general_model_full.csv', index = False, encoding = 'utf-8')"
   ]
  },
  {
   "cell_type": "code",
   "execution_count": 57,
   "id": "ffcc0fba-b256-4033-9fc9-9d2809aadc92",
   "metadata": {},
   "outputs": [
    {
     "data": {
      "text/html": [
       "<div>\n",
       "<style scoped>\n",
       "    .dataframe tbody tr th:only-of-type {\n",
       "        vertical-align: middle;\n",
       "    }\n",
       "\n",
       "    .dataframe tbody tr th {\n",
       "        vertical-align: top;\n",
       "    }\n",
       "\n",
       "    .dataframe thead th {\n",
       "        text-align: right;\n",
       "    }\n",
       "</style>\n",
       "<table border=\"1\" class=\"dataframe\">\n",
       "  <thead>\n",
       "    <tr style=\"text-align: right;\">\n",
       "      <th></th>\n",
       "      <th>id</th>\n",
       "      <th>section</th>\n",
       "      <th>parking_space</th>\n",
       "      <th>construction_time</th>\n",
       "      <th>trade_time</th>\n",
       "      <th>age</th>\n",
       "      <th>unit_price_ping</th>\n",
       "      <th>area</th>\n",
       "      <th>trasaction_floor</th>\n",
       "      <th>total_floor</th>\n",
       "      <th>...</th>\n",
       "      <th>mgmt</th>\n",
       "      <th>purpose</th>\n",
       "      <th>min_inci</th>\n",
       "      <th>min_hos</th>\n",
       "      <th>min_mrt</th>\n",
       "      <th>min_mart</th>\n",
       "      <th>min_gas</th>\n",
       "      <th>min_school</th>\n",
       "      <th>min_park</th>\n",
       "      <th>yearMonth</th>\n",
       "    </tr>\n",
       "  </thead>\n",
       "  <tbody>\n",
       "    <tr>\n",
       "      <th>0</th>\n",
       "      <td>2</td>\n",
       "      <td>1</td>\n",
       "      <td>0</td>\n",
       "      <td>820504</td>\n",
       "      <td>1011122</td>\n",
       "      <td>19</td>\n",
       "      <td>115937.7118</td>\n",
       "      <td>30.878789</td>\n",
       "      <td>二層</td>\n",
       "      <td>十三層</td>\n",
       "      <td>...</td>\n",
       "      <td>1</td>\n",
       "      <td>住家用</td>\n",
       "      <td>3.216651</td>\n",
       "      <td>2.360415</td>\n",
       "      <td>6.347960</td>\n",
       "      <td>0.421408</td>\n",
       "      <td>0.259130</td>\n",
       "      <td>0.311712</td>\n",
       "      <td>0.082275</td>\n",
       "      <td>101-11</td>\n",
       "    </tr>\n",
       "    <tr>\n",
       "      <th>1</th>\n",
       "      <td>3</td>\n",
       "      <td>1</td>\n",
       "      <td>1</td>\n",
       "      <td>850923</td>\n",
       "      <td>1020204</td>\n",
       "      <td>17</td>\n",
       "      <td>234202.7068</td>\n",
       "      <td>59.350563</td>\n",
       "      <td>二十四層</td>\n",
       "      <td>三十層</td>\n",
       "      <td>...</td>\n",
       "      <td>1</td>\n",
       "      <td>住家用</td>\n",
       "      <td>8.482000</td>\n",
       "      <td>1.320465</td>\n",
       "      <td>0.893130</td>\n",
       "      <td>0.957701</td>\n",
       "      <td>0.794212</td>\n",
       "      <td>0.069713</td>\n",
       "      <td>0.854684</td>\n",
       "      <td>102-02</td>\n",
       "    </tr>\n",
       "    <tr>\n",
       "      <th>2</th>\n",
       "      <td>6</td>\n",
       "      <td>1</td>\n",
       "      <td>0</td>\n",
       "      <td>700820</td>\n",
       "      <td>1031209</td>\n",
       "      <td>33</td>\n",
       "      <td>103878.1534</td>\n",
       "      <td>24.066766</td>\n",
       "      <td>二層</td>\n",
       "      <td>二層</td>\n",
       "      <td>...</td>\n",
       "      <td>0</td>\n",
       "      <td>住家用</td>\n",
       "      <td>2.242399</td>\n",
       "      <td>3.157690</td>\n",
       "      <td>7.202395</td>\n",
       "      <td>1.384427</td>\n",
       "      <td>1.237124</td>\n",
       "      <td>1.259014</td>\n",
       "      <td>0.942919</td>\n",
       "      <td>103-12</td>\n",
       "    </tr>\n",
       "    <tr>\n",
       "      <th>3</th>\n",
       "      <td>7</td>\n",
       "      <td>1</td>\n",
       "      <td>0</td>\n",
       "      <td>690325</td>\n",
       "      <td>1040913</td>\n",
       "      <td>35</td>\n",
       "      <td>110000.4950</td>\n",
       "      <td>73.568000</td>\n",
       "      <td>全</td>\n",
       "      <td>二層</td>\n",
       "      <td>...</td>\n",
       "      <td>0</td>\n",
       "      <td>住家用</td>\n",
       "      <td>2.096059</td>\n",
       "      <td>3.258152</td>\n",
       "      <td>7.277277</td>\n",
       "      <td>1.657483</td>\n",
       "      <td>1.468159</td>\n",
       "      <td>1.413863</td>\n",
       "      <td>1.211620</td>\n",
       "      <td>104-09</td>\n",
       "    </tr>\n",
       "    <tr>\n",
       "      <th>4</th>\n",
       "      <td>8</td>\n",
       "      <td>1</td>\n",
       "      <td>0</td>\n",
       "      <td>690325</td>\n",
       "      <td>1090923</td>\n",
       "      <td>40</td>\n",
       "      <td>99940.9456</td>\n",
       "      <td>80.047632</td>\n",
       "      <td>全</td>\n",
       "      <td>二層</td>\n",
       "      <td>...</td>\n",
       "      <td>0</td>\n",
       "      <td>住家用</td>\n",
       "      <td>2.094389</td>\n",
       "      <td>3.259394</td>\n",
       "      <td>7.277268</td>\n",
       "      <td>1.665824</td>\n",
       "      <td>1.474884</td>\n",
       "      <td>1.416363</td>\n",
       "      <td>1.219951</td>\n",
       "      <td>109-09</td>\n",
       "    </tr>\n",
       "  </tbody>\n",
       "</table>\n",
       "<p>5 rows × 26 columns</p>\n",
       "</div>"
      ],
      "text/plain": [
       "   id  section  parking_space  construction_time  trade_time  age  \\\n",
       "0   2        1              0             820504     1011122   19   \n",
       "1   3        1              1             850923     1020204   17   \n",
       "2   6        1              0             700820     1031209   33   \n",
       "3   7        1              0             690325     1040913   35   \n",
       "4   8        1              0             690325     1090923   40   \n",
       "\n",
       "   unit_price_ping       area trasaction_floor total_floor  ... mgmt purpose  \\\n",
       "0      115937.7118  30.878789               二層         十三層  ...    1     住家用   \n",
       "1      234202.7068  59.350563             二十四層         三十層  ...    1     住家用   \n",
       "2      103878.1534  24.066766               二層          二層  ...    0     住家用   \n",
       "3      110000.4950  73.568000                全          二層  ...    0     住家用   \n",
       "4       99940.9456  80.047632                全          二層  ...    0     住家用   \n",
       "\n",
       "   min_inci   min_hos   min_mrt  min_mart   min_gas min_school  min_park  \\\n",
       "0  3.216651  2.360415  6.347960  0.421408  0.259130   0.311712  0.082275   \n",
       "1  8.482000  1.320465  0.893130  0.957701  0.794212   0.069713  0.854684   \n",
       "2  2.242399  3.157690  7.202395  1.384427  1.237124   1.259014  0.942919   \n",
       "3  2.096059  3.258152  7.277277  1.657483  1.468159   1.413863  1.211620   \n",
       "4  2.094389  3.259394  7.277268  1.665824  1.474884   1.416363  1.219951   \n",
       "\n",
       "   yearMonth  \n",
       "0     101-11  \n",
       "1     102-02  \n",
       "2     103-12  \n",
       "3     104-09  \n",
       "4     109-09  \n",
       "\n",
       "[5 rows x 26 columns]"
      ]
     },
     "execution_count": 57,
     "metadata": {},
     "output_type": "execute_result"
    }
   ],
   "source": [
    "data = pd.read_csv('general_model_full.csv')\n",
    "data.head()"
   ]
  },
  {
   "cell_type": "code",
   "execution_count": 60,
   "id": "0d38a28f-8981-4dd2-9262-7e02f1a9734d",
   "metadata": {},
   "outputs": [
    {
     "data": {
      "text/plain": [
       "Index(['id', 'section', 'parking_space', 'construction_time', 'trade_time',\n",
       "       'age', 'unit_price_ping', 'area', 'trasaction_floor', 'total_floor',\n",
       "       'floor', 'type', 'room', 'lr', 'bath', 'partition', 'mgmt', 'purpose',\n",
       "       'min_inci', 'min_hos', 'min_mrt', 'min_mart', 'min_gas', 'min_school',\n",
       "       'min_park', 'yearMonth'],\n",
       "      dtype='object')"
      ]
     },
     "execution_count": 60,
     "metadata": {},
     "output_type": "execute_result"
    }
   ],
   "source": [
    "data.columns "
   ]
  },
  {
   "cell_type": "code",
   "execution_count": 61,
   "id": "c0dade7d-12ea-417b-91b9-94b40f0b0680",
   "metadata": {},
   "outputs": [],
   "source": [
    "data = data.drop('purpose', axis = 1)"
   ]
  },
  {
   "cell_type": "code",
   "execution_count": 62,
   "id": "7d7ad9be-330e-4527-85e4-158901fb4e86",
   "metadata": {},
   "outputs": [],
   "source": [
    "data.partition = data.partition.map({'有': 1, '無': 0})"
   ]
  },
  {
   "cell_type": "code",
   "execution_count": 63,
   "id": "bca0ebf3-f0d5-4d75-9f48-ca38fa26314c",
   "metadata": {},
   "outputs": [
    {
     "data": {
      "text/plain": [
       "array(['住宅大樓(11層含以上有電梯)', '公寓(5樓含以下無電梯)', '透天厝', '華廈(10層含以下有電梯)',\n",
       "       '套房(1房1廳1衛)', '其他'], dtype=object)"
      ]
     },
     "execution_count": 63,
     "metadata": {},
     "output_type": "execute_result"
    }
   ],
   "source": [
    "data.type.unique()"
   ]
  },
  {
   "cell_type": "code",
   "execution_count": 64,
   "id": "b039a1da-7fbe-4f7c-940e-2e087edd3a25",
   "metadata": {},
   "outputs": [],
   "source": [
    "data.type = data.type.map({'住宅大樓(11層含以上有電梯)': 0, '公寓(5樓含以下無電梯)': 1, '透天厝': 2, '華廈(10層含以下有電梯)': 3, '套房(1房1廳1衛)': 4, '其他': 5 })"
   ]
  },
  {
   "cell_type": "code",
   "execution_count": 65,
   "id": "8ad9255b-21f6-4951-944c-28f6fe5c2364",
   "metadata": {},
   "outputs": [
    {
     "data": {
      "text/plain": [
       "array([0, 1, 2, 3, 4, 5], dtype=int64)"
      ]
     },
     "execution_count": 65,
     "metadata": {},
     "output_type": "execute_result"
    }
   ],
   "source": [
    "data.type.unique()"
   ]
  },
  {
   "cell_type": "code",
   "execution_count": 67,
   "id": "04eacfff-17f8-432d-acfc-49b9368a8c61",
   "metadata": {},
   "outputs": [],
   "source": [
    "data.to_csv('general_model_full.csv', index = False, encoding = 'utf-8')"
   ]
  },
  {
   "cell_type": "code",
   "execution_count": null,
   "id": "ee462926-72c2-4dd0-aa6c-6361f54484cc",
   "metadata": {},
   "outputs": [],
   "source": []
  },
  {
   "cell_type": "markdown",
   "id": "024dc26d-98fe-4931-b944-14c91ecc0b87",
   "metadata": {},
   "source": [
    "#### filter其他"
   ]
  },
  {
   "cell_type": "code",
   "execution_count": 2,
   "id": "d63f2adc-0365-41a8-af87-a654fe44b982",
   "metadata": {},
   "outputs": [],
   "source": [
    "import pandas as pd"
   ]
  },
  {
   "cell_type": "code",
   "execution_count": 3,
   "id": "ea1d944b-b759-4e76-b953-8bd6e65b156b",
   "metadata": {},
   "outputs": [],
   "source": [
    "withoutOthers = pd.read_csv('general_model_full.csv')"
   ]
  },
  {
   "cell_type": "code",
   "execution_count": 6,
   "id": "3c601ae9-23c3-46e6-a528-5fa0b335b750",
   "metadata": {},
   "outputs": [
    {
     "data": {
      "text/plain": [
       "array([0, 1, 2, 3, 4, 5], dtype=int64)"
      ]
     },
     "execution_count": 6,
     "metadata": {},
     "output_type": "execute_result"
    }
   ],
   "source": [
    "withoutOthers.type.unique()"
   ]
  },
  {
   "cell_type": "code",
   "execution_count": 12,
   "id": "c986c516-467c-43c8-902d-5b951e9c9e52",
   "metadata": {},
   "outputs": [],
   "source": [
    "withoutOthers = withoutOthers[withoutOthers['type'] != 5]"
   ]
  },
  {
   "cell_type": "code",
   "execution_count": 14,
   "id": "44c5fbbb-84aa-4256-a251-c8504df6942c",
   "metadata": {},
   "outputs": [],
   "source": [
    "withoutOthers.to_csv('general_model_full.csv', index = False, encoding = 'utf-8')"
   ]
  }
 ],
 "metadata": {
  "kernelspec": {
   "display_name": "Python 3",
   "language": "python",
   "name": "python3"
  },
  "language_info": {
   "codemirror_mode": {
    "name": "ipython",
    "version": 3
   },
   "file_extension": ".py",
   "mimetype": "text/x-python",
   "name": "python",
   "nbconvert_exporter": "python",
   "pygments_lexer": "ipython3",
   "version": "3.8.8"
  }
 },
 "nbformat": 4,
 "nbformat_minor": 5
}
