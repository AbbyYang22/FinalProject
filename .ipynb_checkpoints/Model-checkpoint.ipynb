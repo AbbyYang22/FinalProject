{
 "cells": [
  {
   "cell_type": "code",
   "execution_count": 1,
   "id": "7820ceb7-8293-467a-9d12-5edec51823a4",
   "metadata": {},
   "outputs": [],
   "source": [
    "import pandas as pd\n",
    "from sklearn import preprocessing\n",
    "import xgboost as xgb\n",
    "from sklearn.metrics import r2_score, mean_squared_error, mean_absolute_error\n",
    "from sklearn.model_selection import train_test_split\n",
    "from matplotlib import pyplot as plt"
   ]
  },
  {
   "cell_type": "code",
   "execution_count": 2,
   "id": "a7376726-9add-46a3-ab69-e00dcb783e75",
   "metadata": {},
   "outputs": [
    {
     "ename": "FileNotFoundError",
     "evalue": "[Errno 2] No such file or directory: 'data/table/table_for_model(date+floor)_0906.csv'",
     "output_type": "error",
     "traceback": [
      "\u001b[1;31m--------------------------------------------------------------------------\u001b[0m",
      "\u001b[1;31mFileNotFoundError\u001b[0m                        Traceback (most recent call last)",
      "\u001b[1;32m<ipython-input-2-e541e6d9e49a>\u001b[0m in \u001b[0;36m<module>\u001b[1;34m\u001b[0m\n\u001b[1;32m----> 1\u001b[1;33m \u001b[0mhouse\u001b[0m \u001b[1;33m=\u001b[0m \u001b[0mpd\u001b[0m\u001b[1;33m.\u001b[0m\u001b[0mread_csv\u001b[0m\u001b[1;33m(\u001b[0m\u001b[1;34m'data/table/table_for_model(date+floor)_0906.csv'\u001b[0m\u001b[1;33m)\u001b[0m\u001b[1;33m\u001b[0m\u001b[1;33m\u001b[0m\u001b[0m\n\u001b[0m\u001b[0;32m      2\u001b[0m \u001b[0mhouse\u001b[0m\u001b[1;33m.\u001b[0m\u001b[0mhead\u001b[0m\u001b[1;33m(\u001b[0m\u001b[1;33m)\u001b[0m\u001b[1;33m\u001b[0m\u001b[1;33m\u001b[0m\u001b[0m\n",
      "\u001b[1;32m~\\anaconda3\\lib\\site-packages\\pandas\\io\\parsers.py\u001b[0m in \u001b[0;36mread_csv\u001b[1;34m(filepath_or_buffer, sep, delimiter, header, names, index_col, usecols, squeeze, prefix, mangle_dupe_cols, dtype, engine, converters, true_values, false_values, skipinitialspace, skiprows, skipfooter, nrows, na_values, keep_default_na, na_filter, verbose, skip_blank_lines, parse_dates, infer_datetime_format, keep_date_col, date_parser, dayfirst, cache_dates, iterator, chunksize, compression, thousands, decimal, lineterminator, quotechar, quoting, doublequote, escapechar, comment, encoding, dialect, error_bad_lines, warn_bad_lines, delim_whitespace, low_memory, memory_map, float_precision, storage_options)\u001b[0m\n\u001b[0;32m    608\u001b[0m     \u001b[0mkwds\u001b[0m\u001b[1;33m.\u001b[0m\u001b[0mupdate\u001b[0m\u001b[1;33m(\u001b[0m\u001b[0mkwds_defaults\u001b[0m\u001b[1;33m)\u001b[0m\u001b[1;33m\u001b[0m\u001b[1;33m\u001b[0m\u001b[0m\n\u001b[0;32m    609\u001b[0m \u001b[1;33m\u001b[0m\u001b[0m\n\u001b[1;32m--> 610\u001b[1;33m     \u001b[1;32mreturn\u001b[0m \u001b[0m_read\u001b[0m\u001b[1;33m(\u001b[0m\u001b[0mfilepath_or_buffer\u001b[0m\u001b[1;33m,\u001b[0m \u001b[0mkwds\u001b[0m\u001b[1;33m)\u001b[0m\u001b[1;33m\u001b[0m\u001b[1;33m\u001b[0m\u001b[0m\n\u001b[0m\u001b[0;32m    611\u001b[0m \u001b[1;33m\u001b[0m\u001b[0m\n\u001b[0;32m    612\u001b[0m \u001b[1;33m\u001b[0m\u001b[0m\n",
      "\u001b[1;32m~\\anaconda3\\lib\\site-packages\\pandas\\io\\parsers.py\u001b[0m in \u001b[0;36m_read\u001b[1;34m(filepath_or_buffer, kwds)\u001b[0m\n\u001b[0;32m    460\u001b[0m \u001b[1;33m\u001b[0m\u001b[0m\n\u001b[0;32m    461\u001b[0m     \u001b[1;31m# Create the parser.\u001b[0m\u001b[1;33m\u001b[0m\u001b[1;33m\u001b[0m\u001b[1;33m\u001b[0m\u001b[0m\n\u001b[1;32m--> 462\u001b[1;33m     \u001b[0mparser\u001b[0m \u001b[1;33m=\u001b[0m \u001b[0mTextFileReader\u001b[0m\u001b[1;33m(\u001b[0m\u001b[0mfilepath_or_buffer\u001b[0m\u001b[1;33m,\u001b[0m \u001b[1;33m**\u001b[0m\u001b[0mkwds\u001b[0m\u001b[1;33m)\u001b[0m\u001b[1;33m\u001b[0m\u001b[1;33m\u001b[0m\u001b[0m\n\u001b[0m\u001b[0;32m    463\u001b[0m \u001b[1;33m\u001b[0m\u001b[0m\n\u001b[0;32m    464\u001b[0m     \u001b[1;32mif\u001b[0m \u001b[0mchunksize\u001b[0m \u001b[1;32mor\u001b[0m \u001b[0miterator\u001b[0m\u001b[1;33m:\u001b[0m\u001b[1;33m\u001b[0m\u001b[1;33m\u001b[0m\u001b[0m\n",
      "\u001b[1;32m~\\anaconda3\\lib\\site-packages\\pandas\\io\\parsers.py\u001b[0m in \u001b[0;36m__init__\u001b[1;34m(self, f, engine, **kwds)\u001b[0m\n\u001b[0;32m    817\u001b[0m             \u001b[0mself\u001b[0m\u001b[1;33m.\u001b[0m\u001b[0moptions\u001b[0m\u001b[1;33m[\u001b[0m\u001b[1;34m\"has_index_names\"\u001b[0m\u001b[1;33m]\u001b[0m \u001b[1;33m=\u001b[0m \u001b[0mkwds\u001b[0m\u001b[1;33m[\u001b[0m\u001b[1;34m\"has_index_names\"\u001b[0m\u001b[1;33m]\u001b[0m\u001b[1;33m\u001b[0m\u001b[1;33m\u001b[0m\u001b[0m\n\u001b[0;32m    818\u001b[0m \u001b[1;33m\u001b[0m\u001b[0m\n\u001b[1;32m--> 819\u001b[1;33m         \u001b[0mself\u001b[0m\u001b[1;33m.\u001b[0m\u001b[0m_engine\u001b[0m \u001b[1;33m=\u001b[0m \u001b[0mself\u001b[0m\u001b[1;33m.\u001b[0m\u001b[0m_make_engine\u001b[0m\u001b[1;33m(\u001b[0m\u001b[0mself\u001b[0m\u001b[1;33m.\u001b[0m\u001b[0mengine\u001b[0m\u001b[1;33m)\u001b[0m\u001b[1;33m\u001b[0m\u001b[1;33m\u001b[0m\u001b[0m\n\u001b[0m\u001b[0;32m    820\u001b[0m \u001b[1;33m\u001b[0m\u001b[0m\n\u001b[0;32m    821\u001b[0m     \u001b[1;32mdef\u001b[0m \u001b[0mclose\u001b[0m\u001b[1;33m(\u001b[0m\u001b[0mself\u001b[0m\u001b[1;33m)\u001b[0m\u001b[1;33m:\u001b[0m\u001b[1;33m\u001b[0m\u001b[1;33m\u001b[0m\u001b[0m\n",
      "\u001b[1;32m~\\anaconda3\\lib\\site-packages\\pandas\\io\\parsers.py\u001b[0m in \u001b[0;36m_make_engine\u001b[1;34m(self, engine)\u001b[0m\n\u001b[0;32m   1048\u001b[0m             )\n\u001b[0;32m   1049\u001b[0m         \u001b[1;31m# error: Too many arguments for \"ParserBase\"\u001b[0m\u001b[1;33m\u001b[0m\u001b[1;33m\u001b[0m\u001b[1;33m\u001b[0m\u001b[0m\n\u001b[1;32m-> 1050\u001b[1;33m         \u001b[1;32mreturn\u001b[0m \u001b[0mmapping\u001b[0m\u001b[1;33m[\u001b[0m\u001b[0mengine\u001b[0m\u001b[1;33m]\u001b[0m\u001b[1;33m(\u001b[0m\u001b[0mself\u001b[0m\u001b[1;33m.\u001b[0m\u001b[0mf\u001b[0m\u001b[1;33m,\u001b[0m \u001b[1;33m**\u001b[0m\u001b[0mself\u001b[0m\u001b[1;33m.\u001b[0m\u001b[0moptions\u001b[0m\u001b[1;33m)\u001b[0m  \u001b[1;31m# type: ignore[call-arg]\u001b[0m\u001b[1;33m\u001b[0m\u001b[1;33m\u001b[0m\u001b[0m\n\u001b[0m\u001b[0;32m   1051\u001b[0m \u001b[1;33m\u001b[0m\u001b[0m\n\u001b[0;32m   1052\u001b[0m     \u001b[1;32mdef\u001b[0m \u001b[0m_failover_to_python\u001b[0m\u001b[1;33m(\u001b[0m\u001b[0mself\u001b[0m\u001b[1;33m)\u001b[0m\u001b[1;33m:\u001b[0m\u001b[1;33m\u001b[0m\u001b[1;33m\u001b[0m\u001b[0m\n",
      "\u001b[1;32m~\\anaconda3\\lib\\site-packages\\pandas\\io\\parsers.py\u001b[0m in \u001b[0;36m__init__\u001b[1;34m(self, src, **kwds)\u001b[0m\n\u001b[0;32m   1865\u001b[0m \u001b[1;33m\u001b[0m\u001b[0m\n\u001b[0;32m   1866\u001b[0m         \u001b[1;31m# open handles\u001b[0m\u001b[1;33m\u001b[0m\u001b[1;33m\u001b[0m\u001b[1;33m\u001b[0m\u001b[0m\n\u001b[1;32m-> 1867\u001b[1;33m         \u001b[0mself\u001b[0m\u001b[1;33m.\u001b[0m\u001b[0m_open_handles\u001b[0m\u001b[1;33m(\u001b[0m\u001b[0msrc\u001b[0m\u001b[1;33m,\u001b[0m \u001b[0mkwds\u001b[0m\u001b[1;33m)\u001b[0m\u001b[1;33m\u001b[0m\u001b[1;33m\u001b[0m\u001b[0m\n\u001b[0m\u001b[0;32m   1868\u001b[0m         \u001b[1;32massert\u001b[0m \u001b[0mself\u001b[0m\u001b[1;33m.\u001b[0m\u001b[0mhandles\u001b[0m \u001b[1;32mis\u001b[0m \u001b[1;32mnot\u001b[0m \u001b[1;32mNone\u001b[0m\u001b[1;33m\u001b[0m\u001b[1;33m\u001b[0m\u001b[0m\n\u001b[0;32m   1869\u001b[0m         \u001b[1;32mfor\u001b[0m \u001b[0mkey\u001b[0m \u001b[1;32min\u001b[0m \u001b[1;33m(\u001b[0m\u001b[1;34m\"storage_options\"\u001b[0m\u001b[1;33m,\u001b[0m \u001b[1;34m\"encoding\"\u001b[0m\u001b[1;33m,\u001b[0m \u001b[1;34m\"memory_map\"\u001b[0m\u001b[1;33m,\u001b[0m \u001b[1;34m\"compression\"\u001b[0m\u001b[1;33m)\u001b[0m\u001b[1;33m:\u001b[0m\u001b[1;33m\u001b[0m\u001b[1;33m\u001b[0m\u001b[0m\n",
      "\u001b[1;32m~\\anaconda3\\lib\\site-packages\\pandas\\io\\parsers.py\u001b[0m in \u001b[0;36m_open_handles\u001b[1;34m(self, src, kwds)\u001b[0m\n\u001b[0;32m   1360\u001b[0m         \u001b[0mLet\u001b[0m \u001b[0mthe\u001b[0m \u001b[0mreaders\u001b[0m \u001b[0mopen\u001b[0m \u001b[0mIOHanldes\u001b[0m \u001b[0mafter\u001b[0m \u001b[0mthey\u001b[0m \u001b[0mare\u001b[0m \u001b[0mdone\u001b[0m \u001b[1;32mwith\u001b[0m \u001b[0mtheir\u001b[0m \u001b[0mpotential\u001b[0m \u001b[0mraises\u001b[0m\u001b[1;33m.\u001b[0m\u001b[1;33m\u001b[0m\u001b[1;33m\u001b[0m\u001b[0m\n\u001b[0;32m   1361\u001b[0m         \"\"\"\n\u001b[1;32m-> 1362\u001b[1;33m         self.handles = get_handle(\n\u001b[0m\u001b[0;32m   1363\u001b[0m             \u001b[0msrc\u001b[0m\u001b[1;33m,\u001b[0m\u001b[1;33m\u001b[0m\u001b[1;33m\u001b[0m\u001b[0m\n\u001b[0;32m   1364\u001b[0m             \u001b[1;34m\"r\"\u001b[0m\u001b[1;33m,\u001b[0m\u001b[1;33m\u001b[0m\u001b[1;33m\u001b[0m\u001b[0m\n",
      "\u001b[1;32m~\\anaconda3\\lib\\site-packages\\pandas\\io\\common.py\u001b[0m in \u001b[0;36mget_handle\u001b[1;34m(path_or_buf, mode, encoding, compression, memory_map, is_text, errors, storage_options)\u001b[0m\n\u001b[0;32m    640\u001b[0m                 \u001b[0merrors\u001b[0m \u001b[1;33m=\u001b[0m \u001b[1;34m\"replace\"\u001b[0m\u001b[1;33m\u001b[0m\u001b[1;33m\u001b[0m\u001b[0m\n\u001b[0;32m    641\u001b[0m             \u001b[1;31m# Encoding\u001b[0m\u001b[1;33m\u001b[0m\u001b[1;33m\u001b[0m\u001b[1;33m\u001b[0m\u001b[0m\n\u001b[1;32m--> 642\u001b[1;33m             handle = open(\n\u001b[0m\u001b[0;32m    643\u001b[0m                 \u001b[0mhandle\u001b[0m\u001b[1;33m,\u001b[0m\u001b[1;33m\u001b[0m\u001b[1;33m\u001b[0m\u001b[0m\n\u001b[0;32m    644\u001b[0m                 \u001b[0mioargs\u001b[0m\u001b[1;33m.\u001b[0m\u001b[0mmode\u001b[0m\u001b[1;33m,\u001b[0m\u001b[1;33m\u001b[0m\u001b[1;33m\u001b[0m\u001b[0m\n",
      "\u001b[1;31mFileNotFoundError\u001b[0m: [Errno 2] No such file or directory: 'data/table/table_for_model(date+floor)_0906.csv'"
     ]
    }
   ],
   "source": [
    "house = pd.read_csv('data/table/')\n",
    "house.head()"
   ]
  },
  {
   "cell_type": "code",
   "execution_count": null,
   "id": "55e212ba-dd7b-4289-90c3-2a46885d0d8d",
   "metadata": {},
   "outputs": [],
   "source": [
    "house.columns"
   ]
  },
  {
   "cell_type": "code",
   "execution_count": null,
   "id": "dea350da-b985-4ebf-abc4-a4631850fae5",
   "metadata": {},
   "outputs": [],
   "source": [
    "house = house.drop(columns = {'id', 'construction_time', 'trade_time', 'trasaction_floor', 'total_floor', 'yearMonth'})"
   ]
  },
  {
   "cell_type": "code",
   "execution_count": null,
   "id": "59491eea-5789-4d00-ac1a-d9a270da61ec",
   "metadata": {},
   "outputs": [],
   "source": [
    "house.columns"
   ]
  },
  {
   "cell_type": "code",
   "execution_count": null,
   "id": "d9815283-a412-4556-b8de-ac94b5b06a2e",
   "metadata": {},
   "outputs": [],
   "source": [
    "house_get_dummies = house.join(pd.get_dummies(house['section']))"
   ]
  },
  {
   "cell_type": "code",
   "execution_count": null,
   "id": "72fa2481-de19-42f3-9dd3-4ba815720ccb",
   "metadata": {},
   "outputs": [],
   "source": [
    "house_get_dummies"
   ]
  },
  {
   "cell_type": "markdown",
   "id": "baa9b718-a53b-4e43-95d9-fb7e960365b2",
   "metadata": {},
   "source": [
    "# with outliers"
   ]
  },
  {
   "cell_type": "code",
   "execution_count": null,
   "id": "99baca2f-8d8c-4536-bcb2-34572c1b415c",
   "metadata": {
    "tags": []
   },
   "outputs": [],
   "source": [
    "# without get_dummies\n",
    "X = house.drop(columns = {'section', 'unit_price_ping'})\n",
    "Y = house['unit_price_ping']\n",
    "\n",
    "# split data\n",
    "X_train, X_test, Y_train, Y_test = train_test_split(X, Y, test_size = 0.2)\n",
    "\n",
    "# standardscaler\n",
    "scaler = preprocessing.StandardScaler().fit(X_train)\n",
    "X_train_nor = scaler.transform(X_train)\n",
    "\n",
    "# set regressor\n",
    "regressor = xgb.XGBRegressor(\n",
    "    n_estimators = 1000,\n",
    "    max_depth = 5, \n",
    "    n_jobs = -1\n",
    ")\n",
    "\n",
    "regressor.fit(X_train_nor, Y_train)\n",
    "X_test_nor = scaler.transform(X_test)\n",
    "Y_pred = regressor.predict(X_test_nor)\n",
    "\n",
    "print(f\"without_get_dummies_r2: {r2_score(Y_test, Y_pred)}\")\n",
    "print(f\"without_get_dummies_mse: {mean_squared_error(Y_test, Y_pred)}\")\n",
    "print(f\"without_get_dummies_rmse: {mean_squared_error(Y_test, Y_pred, squared = False)}\")\n",
    "print(f\"without_get_dummies_mae: {mean_absolute_error(Y_test, Y_pred)}\")\n",
    "\n",
    "# with get_dummies\n",
    "X = house_get_dummies.drop(columns = {'section', 'unit_price_ping'})\n",
    "Y = house['unit_price_ping']\n",
    "\n",
    "X_train, X_test, Y_train, Y_test = train_test_split(X, Y, test_size = 0.2)\n",
    "\n",
    "# standardscaler\n",
    "scaler = preprocessing.StandardScaler().fit(X_train)\n",
    "X_train_nor = scaler.transform(X_train)\n",
    "\n",
    "# set regressor\n",
    "regressor = xgb.XGBRegressor(\n",
    "    n_estimators = 1000,\n",
    "    max_depth = 5, \n",
    "    n_jobs = -1\n",
    ")\n",
    "\n",
    "regressor.fit(X_train_nor, Y_train)\n",
    "X_test_nor = scaler.transform(X_test)\n",
    "Y_pred = regressor.predict(X_test_nor)\n",
    "\n",
    "print(f\"with_get_dummies_r2: {r2_score(Y_test, Y_pred)}\")\n",
    "print(f\"with_get_dummies_mse: {mean_squared_error(Y_test, Y_pred)}\")\n",
    "print(f\"with_get_dummies_rmse: {mean_squared_error(Y_test, Y_pred, squared = False)}\")\n",
    "print(f\"with_get_dummies_mae: {mean_absolute_error(Y_test, Y_pred)}\")"
   ]
  },
  {
   "cell_type": "markdown",
   "id": "814c1916-d830-4e90-ad80-4fed93b6beef",
   "metadata": {},
   "source": [
    "# without outliers"
   ]
  },
  {
   "cell_type": "code",
   "execution_count": null,
   "id": "748c5c1a-569f-46be-b8df-010f3d7c1b65",
   "metadata": {},
   "outputs": [],
   "source": [
    "house_without_outliers_no100 = pd.read_csv('data/table/data_for_model(no_outliner,no_100)_0906.csv')"
   ]
  },
  {
   "cell_type": "code",
   "execution_count": null,
   "id": "0b3c877d-e107-4d8e-acba-1906fea9a3fd",
   "metadata": {},
   "outputs": [],
   "source": [
    "house_without_outliers_no100"
   ]
  },
  {
   "cell_type": "code",
   "execution_count": null,
   "id": "78ebbf91-f959-48bf-ab36-08b7c157f812",
   "metadata": {},
   "outputs": [],
   "source": [
    "house_without_outliers_no100.columns"
   ]
  },
  {
   "cell_type": "code",
   "execution_count": null,
   "id": "34f09e4e-c8ca-48ff-babd-b950311e610b",
   "metadata": {},
   "outputs": [],
   "source": [
    "house_without_outliers_no100 = house_without_outliers_no100.drop(columns = {'id', 'construction_time', 'trade_time', 'trasaction_floor', 'total_floor', 'year', 'month'})"
   ]
  },
  {
   "cell_type": "code",
   "execution_count": null,
   "id": "c9561598-9713-4e33-a8ba-c8f63cadc240",
   "metadata": {},
   "outputs": [],
   "source": [
    "house_without_outliers_no100.columns"
   ]
  },
  {
   "cell_type": "code",
   "execution_count": null,
   "id": "49b47ec7-69db-4e32-8262-ee3fb96d5fe8",
   "metadata": {},
   "outputs": [],
   "source": [
    "house_without_outliers_no100.shape"
   ]
  },
  {
   "cell_type": "code",
   "execution_count": null,
   "id": "6d5fa26a-f187-4441-b50c-92ea2631c5ac",
   "metadata": {},
   "outputs": [],
   "source": [
    "pd.get_dummies(house_without_outliers_no100['section'])"
   ]
  },
  {
   "cell_type": "code",
   "execution_count": null,
   "id": "5d56eb8e-863d-41bd-92fd-5c946731ed7f",
   "metadata": {},
   "outputs": [],
   "source": [
    "house_without_outliers_no100_gt = house_without_outliers_no100.join(pd.get_dummies(house_without_outliers_no100['section']))"
   ]
  },
  {
   "cell_type": "code",
   "execution_count": null,
   "id": "0b21a13a-4144-4745-be89-2fa3e7ac63ae",
   "metadata": {},
   "outputs": [],
   "source": [
    "house_without_outliers_no100_gt = house_without_outliers_no100.drop('section', axis = 1)"
   ]
  },
  {
   "cell_type": "code",
   "execution_count": null,
   "id": "4dedd436-233d-47a4-8d48-81eb57918591",
   "metadata": {},
   "outputs": [],
   "source": [
    "house_without_outliers_no100"
   ]
  },
  {
   "cell_type": "code",
   "execution_count": null,
   "id": "48c5f514-5548-44fb-b3e3-63d6dba96ae5",
   "metadata": {},
   "outputs": [],
   "source": [
    "# without get_dummies\n",
    "X = house.drop(columns = {'section', 'unit_price_ping'})\n",
    "Y = house['unit_price_ping']\n",
    "\n",
    "# split data\n",
    "X_train, X_test, Y_train, Y_test = train_test_split(X, Y, test_size = 0.2)\n",
    "\n",
    "# standardscaler\n",
    "scaler = preprocessing.StandardScaler().fit(X_train)\n",
    "X_train_nor = scaler.transform(X_train)\n",
    "\n",
    "# set regressor\n",
    "regressor = xgb.XGBRegressor(\n",
    "    n_estimators = 1000,\n",
    "    max_depth = 5, \n",
    "    n_jobs = -1\n",
    ")\n",
    "\n",
    "regressor.fit(X_train_nor, Y_train)\n",
    "X_test_nor = scaler.transform(X_test)\n",
    "Y_pred = regressor.predict(X_test_nor)\n",
    "\n",
    "print(f\"without_get_dummies_r2: {r2_score(Y_test, Y_pred)}\")\n",
    "print(f\"without_get_dummies_mse: {mean_squared_error(Y_test, Y_pred)}\")\n",
    "print(f\"without_get_dummies_rmse: {mean_squared_error(Y_test, Y_pred, squared = False)}\")\n",
    "print(f\"without_get_dummies_mae: {mean_absolute_error(Y_test, Y_pred)}\")\n",
    "\n",
    "# with get_dummies\n",
    "X = house_get_dummies.drop(columns = {'section', 'unit_price_ping'})\n",
    "Y = house['unit_price_ping']\n",
    "\n",
    "X_train, X_test, Y_train, Y_test = train_test_split(X, Y, test_size = 0.2)\n",
    "\n",
    "# standardscaler\n",
    "scaler = preprocessing.StandardScaler().fit(X_train)\n",
    "X_train_nor = scaler.transform(X_train)\n",
    "\n",
    "# set regressor\n",
    "regressor = xgb.XGBRegressor(\n",
    "    n_estimators = 1000,\n",
    "    max_depth = 5, \n",
    "    n_jobs = -1\n",
    ")\n",
    "\n",
    "regressor.fit(X_train_nor, Y_train)\n",
    "X_test_nor = scaler.transform(X_test)\n",
    "Y_pred = regressor.predict(X_test_nor)\n",
    "\n",
    "print(f\"with_get_dummies_r2: {r2_score(Y_test, Y_pred)}\")\n",
    "print(f\"with_get_dummies_mse: {mean_squared_error(Y_test, Y_pred)}\")\n",
    "print(f\"with_get_dummies_rmse: {mean_squared_error(Y_test, Y_pred, squared = False)}\")\n",
    "print(f\"with_get_dummies_mae: {mean_absolute_error(Y_test, Y_pred)}\")"
   ]
  }
 ],
 "metadata": {
  "kernelspec": {
   "display_name": "Python 3",
   "language": "python",
   "name": "python3"
  },
  "language_info": {
   "codemirror_mode": {
    "name": "ipython",
    "version": 3
   },
   "file_extension": ".py",
   "mimetype": "text/x-python",
   "name": "python",
   "nbconvert_exporter": "python",
   "pygments_lexer": "ipython3",
   "version": "3.8.8"
  }
 },
 "nbformat": 4,
 "nbformat_minor": 5
}
