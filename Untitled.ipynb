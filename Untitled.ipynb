{
 "cells": [
  {
   "cell_type": "code",
   "execution_count": 1,
   "id": "18e769e2-973b-4b9d-bc79-9d2b0497d170",
   "metadata": {},
   "outputs": [],
   "source": [
    "import pandas as pd"
   ]
  },
  {
   "cell_type": "code",
   "execution_count": 2,
   "id": "78a2b881-0255-4b16-839b-ea23f6c59daf",
   "metadata": {},
   "outputs": [],
   "source": [
    "house = pd.read_csv('data/table/table_for_model(date+floor).csv')"
   ]
  },
  {
   "cell_type": "code",
   "execution_count": 4,
   "id": "646338ff-6d47-4d88-a16f-09751b737c06",
   "metadata": {
    "collapsed": true,
    "jupyter": {
     "outputs_hidden": true
    },
    "tags": []
   },
   "outputs": [
    {
     "data": {
      "text/plain": [
       "id                     0\n",
       "section                0\n",
       "parking_space          0\n",
       "construction_time      0\n",
       "trade_time             0\n",
       "age                    0\n",
       "unit_price_ping        0\n",
       "area                   0\n",
       "trasaction_floor     116\n",
       "total_floor           43\n",
       "floor                  0\n",
       "type                   0\n",
       "room                   0\n",
       "lr                     0\n",
       "bath                   0\n",
       "partition              0\n",
       "mgmt                   0\n",
       "min_inci               0\n",
       "min_hos                0\n",
       "min_mrt                0\n",
       "min_mart               0\n",
       "min_gas                0\n",
       "min_school             0\n",
       "min_park               0\n",
       "yearMonth              0\n",
       "dtype: int64"
      ]
     },
     "execution_count": 4,
     "metadata": {},
     "output_type": "execute_result"
    }
   ],
   "source": [
    "house.isna().sum()"
   ]
  },
  {
   "cell_type": "code",
   "execution_count": 11,
   "id": "7a338c17-01a7-487d-8072-7d65dd040dc0",
   "metadata": {},
   "outputs": [
    {
     "data": {
      "text/plain": [
       "0         [101, 11]\n",
       "1         [102, 02]\n",
       "2         [103, 12]\n",
       "3         [102, 05]\n",
       "4         [102, 03]\n",
       "            ...    \n",
       "225900    [109, 05]\n",
       "225901    [103, 03]\n",
       "225902    [101, 08]\n",
       "225903    [105, 11]\n",
       "225904    [102, 12]\n",
       "Name: yearMonth, Length: 225905, dtype: object"
      ]
     },
     "execution_count": 11,
     "metadata": {},
     "output_type": "execute_result"
    }
   ],
   "source": [
    "house.yearMonth.str.split('-')"
   ]
  },
  {
   "cell_type": "code",
   "execution_count": null,
   "id": "ebeef694-de6d-4065-9aa7-cf50fa14d977",
   "metadata": {},
   "outputs": [],
   "source": [
    "for i in range(len(house)) :\n",
    "    "
   ]
  }
 ],
 "metadata": {
  "kernelspec": {
   "display_name": "Python 3 (ipykernel)",
   "language": "python",
   "name": "python3"
  },
  "language_info": {
   "codemirror_mode": {
    "name": "ipython",
    "version": 3
   },
   "file_extension": ".py",
   "mimetype": "text/x-python",
   "name": "python",
   "nbconvert_exporter": "python",
   "pygments_lexer": "ipython3",
   "version": "3.9.6"
  }
 },
 "nbformat": 4,
 "nbformat_minor": 5
}
